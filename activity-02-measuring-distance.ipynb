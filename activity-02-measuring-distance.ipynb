{
 "cells": [
  {
   "cell_type": "markdown",
   "id": "3a0d0732",
   "metadata": {},
   "source": [
    "# Activity 2\n",
    "### Measuring distance\n",
    "In this activity you will measure a distance between two points on a map using different earth models, including flat Earth model, and sphere Earth model. Furthermore you will measure direction between the points."
   ]
  },
  {
   "cell_type": "markdown",
   "id": "522403b7",
   "metadata": {},
   "source": [
    "#### 1, Measuring distance using the euclidean distance approach (i.e., using Pythagorean theorem), which denotes the flat Earth model.  \n",
    "\n",
    "In this example, we'll measure the distance between Albury and Canberra using the Universal Transverse\n",
    "Mercator (UTM) projection and decimal degrees (unprojected). The units of the UTM projection are in meters. The first point, defined as (x1,y1), represents Albury ( a city in New South Wales, Australia), while the second point, defined as (x2,y2)\n",
    "represents Canberra the capital city of Australia, as shown in the following illustration:"
   ]
  },
  {
   "cell_type": "code",
   "execution_count": 2,
   "id": "43bc599c",
   "metadata": {},
   "outputs": [],
   "source": [
    "import math"
   ]
  },
  {
   "cell_type": "code",
   "execution_count": 3,
   "id": "b2ba30e7",
   "metadata": {},
   "outputs": [],
   "source": [
    "# The point for Albury\n",
    "x1= 493258.55\n",
    "y1= 6006785.06"
   ]
  },
  {
   "cell_type": "code",
   "execution_count": 4,
   "id": "34a3da73",
   "metadata": {},
   "outputs": [],
   "source": [
    "# The point for Canberra\n",
    "x2= 697686.97\n",
    "y2= 6091664.87"
   ]
  },
  {
   "cell_type": "code",
   "execution_count": 5,
   "id": "a441e8f9",
   "metadata": {},
   "outputs": [],
   "source": [
    "# X distance, and Y distance\n",
    "x_dist=x1-x2\n",
    "y_dist=y1-y2"
   ]
  },
  {
   "cell_type": "code",
   "execution_count": 42,
   "id": "9e36baf6",
   "metadata": {},
   "outputs": [
    {
     "name": "stdout",
     "output_type": "stream",
     "text": [
      "221349.40941717595\n"
     ]
    }
   ],
   "source": [
    "# Pythagorean theorem \n",
    "dist_sq = x_dist**2 + y_dist**2\n",
    "distance = math.sqrt(dist_sq)\n",
    "print(distance)\n",
    "# 221349.41 metres"
   ]
  },
  {
   "cell_type": "code",
   "execution_count": 43,
   "id": "301c2972",
   "metadata": {},
   "outputs": [
    {
     "name": "stdout",
     "output_type": "stream",
     "text": [
      "221.34940941717596\n"
     ]
    }
   ],
   "source": [
    "# convert from m to km\n",
    "distance=distance/1000.0 \n",
    "\n",
    "print(distance)"
   ]
  },
  {
   "cell_type": "markdown",
   "id": "5ce79aa8",
   "metadata": {},
   "source": [
    "When measuring distance using decimal degrees, we must convert the angles into radians, which account for the curved surface distance between the coordinates. We'll multiply our output in radians by the radius of the Earth in meters to convert back from radians."
   ]
  },
  {
   "cell_type": "code",
   "execution_count": 55,
   "id": "24e6a928",
   "metadata": {},
   "outputs": [
    {
     "name": "stdout",
     "output_type": "stream",
     "text": [
      "263075.1139366397\n"
     ]
    }
   ],
   "source": [
    "import math\n",
    "\n",
    "# Albury point \n",
    "x1 = 146.92\n",
    "y1 = -36.08\n",
    "\n",
    "# Canberra point\n",
    "x2 = 149.15 \n",
    "y2 = -35.29\n",
    "\n",
    "# computation\n",
    "x_dist = math.radians(x1 - x2)\n",
    "y_dist = math.radians(y1 - y2)\n",
    "dist_sq = x_dist**2 + y_dist**2\n",
    "dist_rad = math.sqrt(dist_sq)\n",
    "dist_rad= dist_rad * 6371251.46\n",
    "print(dist_rad)"
   ]
  },
  {
   "cell_type": "code",
   "execution_count": 56,
   "id": "4f175bdc",
   "metadata": {},
   "outputs": [
    {
     "name": "stdout",
     "output_type": "stream",
     "text": [
      "263.0751139366397\n"
     ]
    }
   ],
   "source": [
    "# convert to km\n",
    "dist_rad=dist_rad/1000.0\n",
    "print(dist_rad)"
   ]
  },
  {
   "cell_type": "markdown",
   "id": "e225706a",
   "metadata": {},
   "source": [
    "In this method, we came up with around 263 kilometers, which is 42 kilometers more\n",
    "than our first measurement. So, as you can see, your choice of measurement algorithm and\n",
    "Earth model can have significant consequences. Using the same equation, we come up with\n",
    "radically different answers, depending on our choice of coordinate system and Earth\n",
    "model."
   ]
  },
  {
   "cell_type": "markdown",
   "id": "c15568bd",
   "metadata": {},
   "source": [
    "#### 2, The sphere Earth model using the haversine formula (please look this up online for further reading)\n",
    "The haversine formula uses trigonometry to calculate Great Circle distance using coordinates defined in decimal degrees as input. The haversine formula is haversine(θ) = sin²(θ/2), where θ is the central angle between two points on a sphere.The\n",
    "haversine formula is the most commonly used distance measuring formula because it is relatively lightweight from a coding perspective and reasonably accurate in most cases. It is considered to be accurate to within about a meter. In this method, we'll convert the axis distances from degrees into radians before we apply the formula, just like in the previous example. But this time, we'll also convert the latitude (yaxis) coordinates into radians separately."
   ]
  },
  {
   "cell_type": "code",
   "execution_count": 59,
   "id": "659f518b",
   "metadata": {},
   "outputs": [
    {
     "name": "stdout",
     "output_type": "stream",
     "text": [
      "219.72147973894042\n"
     ]
    }
   ],
   "source": [
    "import math\n",
    "x1 = 146.92\n",
    "y1 = -36.08\n",
    "x2 = 149.15 \n",
    "y2 = -35.29\n",
    "x_dist = math.radians(x1 - x2)\n",
    "y_dist = math.radians(y1 - y2)\n",
    "y1_rad = math.radians(y1)\n",
    "y2_rad = math.radians(y2)\n",
    "a = math.sin(y_dist/2)**2 + math.sin(x_dist/2)**2 * math.cos(y1_rad) * math.cos(y2_rad)\n",
    "c = 2 * math.asin(math.sqrt(a))\n",
    "distance = c * 6371 # kilometers\n",
    "print(distance)\n",
    "# 219.72"
   ]
  },
  {
   "cell_type": "markdown",
   "id": "a0f24cce",
   "metadata": {},
   "source": [
    "#### Bearing\n",
    "In addition to distance, you will often want to know the bearing of a line between its endpoints. We can calculate this line direction from one of the points using only the Python math module."
   ]
  },
  {
   "cell_type": "code",
   "execution_count": 61,
   "id": "7e86a74a",
   "metadata": {},
   "outputs": [],
   "source": [
    "from math import atan2, cos, sin, degrees"
   ]
  },
  {
   "cell_type": "code",
   "execution_count": 62,
   "id": "ee783131",
   "metadata": {},
   "outputs": [],
   "source": [
    "# set up variables for our two points\n",
    "lon1 = 146.92\n",
    "lat1 = -36.08\n",
    "lon2= 149.15 \n",
    "lat2= -35.29"
   ]
  },
  {
   "cell_type": "code",
   "execution_count": 63,
   "id": "01608817",
   "metadata": {},
   "outputs": [],
   "source": [
    "# calculate the angle between the two points\n",
    "angle = atan2(cos(lat1)*sin(lat2)-sin(lat1) * \\\n",
    "cos(lat2)*cos(lon2-lon1), sin(lon2-lon1)*cos(lat2))\n"
   ]
  },
  {
   "cell_type": "code",
   "execution_count": 65,
   "id": "cd17480e",
   "metadata": {},
   "outputs": [
    {
     "name": "stdout",
     "output_type": "stream",
     "text": [
      "219.65454464476434\n"
     ]
    }
   ],
   "source": [
    "# calculate the bearing of the line in degrees\n",
    "bearing = (degrees(angle) + 360) % 360\n",
    "print(bearing)\n",
    "\n",
    "# 219.655"
   ]
  },
  {
   "cell_type": "markdown",
   "id": "ecf9c0d7",
   "metadata": {},
   "source": [
    "Sometimes, you end up with a negative bearing value. To avoid this issue, we add 360 to the result to avoid a negative number and use the Python modulo operator to keep the value from climbing to over 360."
   ]
  },
  {
   "cell_type": "markdown",
   "id": "4ccb33c2",
   "metadata": {},
   "source": [
    "### End of activity"
   ]
  },
  {
   "cell_type": "code",
   "execution_count": null,
   "id": "43905f10",
   "metadata": {},
   "outputs": [],
   "source": []
  }
 ],
 "metadata": {
  "kernelspec": {
   "display_name": "Python 3 (ipykernel)",
   "language": "python",
   "name": "python3"
  },
  "language_info": {
   "codemirror_mode": {
    "name": "ipython",
    "version": 3
   },
   "file_extension": ".py",
   "mimetype": "text/x-python",
   "name": "python",
   "nbconvert_exporter": "python",
   "pygments_lexer": "ipython3",
   "version": "3.8.13"
  }
 },
 "nbformat": 4,
 "nbformat_minor": 5
}
