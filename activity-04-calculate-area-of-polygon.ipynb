{
 "cells": [
  {
   "cell_type": "markdown",
   "id": "5a03dfcd",
   "metadata": {},
   "source": [
    "# Activity 4\n",
    "### Calculating area of a polygon\n",
    "\n",
    "Calculating the area of a polygon is one of the most useful operations in GIS if we wish to understand the relative size of features. But in GIS, area calculations go beyond basic geometry. The polygon lies on the Earth, which is a curved surface. The polygon must be projected to account for that curvature. In this task, we will use the module called area(). The area module's area() function accepts a GeoJSON string with a list of points that form a polygon and then returns the area."
   ]
  },
  {
   "cell_type": "code",
   "execution_count": 2,
   "id": "0cfa26f5",
   "metadata": {},
   "outputs": [
    {
     "name": "stdout",
     "output_type": "stream",
     "text": [
      "Collecting area\n",
      "  Downloading area-1.1.1.tar.gz (4.1 kB)\n",
      "  Preparing metadata (setup.py): started\n",
      "  Preparing metadata (setup.py): finished with status 'done'\n",
      "Building wheels for collected packages: area\n",
      "  Building wheel for area (setup.py): started\n",
      "  Building wheel for area (setup.py): finished with status 'done'\n",
      "  Created wheel for area: filename=area-1.1.1-py3-none-any.whl size=3608 sha256=195cef5831097f8bdc928d5646443e4357781d5bc47fc3e0e3f60896fce85235\n",
      "  Stored in directory: c:\\users\\rcrabbe\\appdata\\local\\pip\\cache\\wheels\\84\\3a\\5d\\f14736ff7eb7fb369e0ddb03a65bf406e77462e1bb25eb9e6d\n",
      "Successfully built area\n",
      "Installing collected packages: area\n",
      "Successfully installed area-1.1.1\n"
     ]
    }
   ],
   "source": [
    "\n",
    "# install utm\n",
    "import sys\n",
    "!{sys.executable} -m pip install area"
   ]
  },
  {
   "cell_type": "code",
   "execution_count": 3,
   "id": "a69e617b",
   "metadata": {},
   "outputs": [],
   "source": [
    "# import the area function from the area module\n",
    "from area import area"
   ]
  },
  {
   "cell_type": "code",
   "execution_count": 5,
   "id": "dbdafcf2",
   "metadata": {},
   "outputs": [],
   "source": [
    "# now let's create a variable called polygon that's contained in a GeoJSON geometry for our polygon\n",
    "# points making up a polygon\n",
    "polygon = {\"type\":\"Polygon\",\"coordinates\":[[[-89.324,30.312],[-89.326,30.31],\n",
    "[-89.322,30.31],[-89.321,30.311],[-89.321,30.312],[-89.324,30.312]]\n",
    "]}"
   ]
  },
  {
   "cell_type": "code",
   "execution_count": 6,
   "id": "e16abc90",
   "metadata": {},
   "outputs": [],
   "source": [
    "# pass the polygon points string to the area function to calculate the area\n",
    "\n",
    "a = area(polygon)"
   ]
  },
  {
   "cell_type": "code",
   "execution_count": 7,
   "id": "af1bfd80",
   "metadata": {},
   "outputs": [
    {
     "data": {
      "text/plain": [
       "80235.14"
      ]
     },
     "execution_count": 7,
     "metadata": {},
     "output_type": "execute_result"
    }
   ],
   "source": [
    "# roud the value to 2 decimal places\n",
    "round(a, 2)"
   ]
  },
  {
   "cell_type": "code",
   "execution_count": null,
   "id": "0da5057f",
   "metadata": {},
   "outputs": [],
   "source": []
  }
 ],
 "metadata": {
  "kernelspec": {
   "display_name": "Python 3 (ipykernel)",
   "language": "python",
   "name": "python3"
  },
  "language_info": {
   "codemirror_mode": {
    "name": "ipython",
    "version": 3
   },
   "file_extension": ".py",
   "mimetype": "text/x-python",
   "name": "python",
   "nbconvert_exporter": "python",
   "pygments_lexer": "ipython3",
   "version": "3.8.13"
  }
 },
 "nbformat": 4,
 "nbformat_minor": 5
}
