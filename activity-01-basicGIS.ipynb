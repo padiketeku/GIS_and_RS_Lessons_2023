{
 "cells": [
  {
   "cell_type": "markdown",
   "id": "99548e27",
   "metadata": {},
   "source": [
    "# ACKNOWLEDGMENT\n",
    "## This exercise is prepared using the book 'Learning Geospatial Analysis with Python. 3rd Edition. Author: Joel Lawhead'"
   ]
  },
  {
   "cell_type": "markdown",
   "id": "8b97d4b2",
   "metadata": {},
   "source": [
    "# Activity 01\n",
    "This activity creates a simple GIS using python's built-in module called 'turtle'. If new to turtle, please read more about it before here, https://docs.python.org/3/library/turtle.html, diving into the rest of the activity."
   ]
  },
  {
   "cell_type": "code",
   "execution_count": 1,
   "id": "cf1bc1da",
   "metadata": {},
   "outputs": [],
   "source": [
    "# import the required python library i.e., turtle\n",
    "\n",
    "import turtle as t"
   ]
  },
  {
   "cell_type": "markdown",
   "id": "feee6f6c",
   "metadata": {},
   "source": [
    "## set up data model\n"
   ]
  },
  {
   "cell_type": "markdown",
   "id": "d39ae17d",
   "metadata": {},
   "source": [
    "create constant variables; i.e., assign constants to some common elements that are used for All cities will have a name, one or more points, and a population count"
   ]
  },
  {
   "cell_type": "code",
   "execution_count": 6,
   "id": "b8a2a6d2",
   "metadata": {},
   "outputs": [],
   "source": [
    "NAME=0\n",
    "POINTS=1\n",
    "POP=2"
   ]
  },
  {
   "cell_type": "markdown",
   "id": "97c22361",
   "metadata": {},
   "source": [
    "Let's set up the data for Albury as a list with a name, polygon points,\n",
    "and population (as of 2020). Note that the coordinates are a list within a list"
   ]
  },
  {
   "cell_type": "code",
   "execution_count": 22,
   "id": "50f2d1a5",
   "metadata": {},
   "outputs": [],
   "source": [
    "state=[\"NSW\",[[141,-34], [141,-29],[154,-28],[150,-38]],8172500 ]\n"
   ]
  },
  {
   "cell_type": "markdown",
   "id": "b3927ef1",
   "metadata": {},
   "source": [
    "Now let's add a few cities of NSW. Each city's location consists of a single\n",
    "point as a longitude and latitude pair. These entries will complete our GIS data\n",
    "model. Start with an empty list called cities and then append the data to\n",
    "this list for each city."
   ]
  },
  {
   "cell_type": "code",
   "execution_count": 23,
   "id": "ac64784d",
   "metadata": {},
   "outputs": [],
   "source": [
    "cities=[]\n",
    "cities.append([\"SYDNEY\",[151.21, -33.87], 5231150])\n",
    "cities.append([\"ALBURY\",[146.91, -36.07], 56036])\n",
    "cities.append([\"ORANGE\", [149.10, -33.28],40493])"
   ]
  },
  {
   "cell_type": "markdown",
   "id": "fa58cee5",
   "metadata": {},
   "source": [
    "## Prep for map rendering \n",
    "\n",
    "First, define a map size"
   ]
  },
  {
   "cell_type": "code",
   "execution_count": 24,
   "id": "53984b0b",
   "metadata": {},
   "outputs": [],
   "source": [
    "map_width=400\n",
    "map_height=300"
   ]
  },
  {
   "cell_type": "markdown",
   "id": "d8500708",
   "metadata": {},
   "source": [
    "In order to scale the map to the graphics canvas, we must first determine the\n",
    "bounding box of the largest layer, which is the state. We'll set the map's\n",
    "bounding box to a global scale and reduce it to the size of the state. To do so,\n",
    "we'll loop through the longitude and latitude of each point and compare it with\n",
    "the current minimum and maximum x and y values. If it is larger than the\n",
    "current maximum or smaller than the current minimum, we'll make this value\n",
    "the new maximum or minimum, respectively:"
   ]
  },
  {
   "cell_type": "code",
   "execution_count": 25,
   "id": "15baf1db",
   "metadata": {},
   "outputs": [],
   "source": [
    "minx = 180\n",
    "maxx = -180\n",
    "miny = 90\n",
    "maxy = -90\n",
    "for x,y in state[POINTS]:\n",
    "    if x < minx:\n",
    "        minx = x\n",
    "    elif x > maxx:\n",
    "        maxx = x\n",
    "    if y < miny:\n",
    "        miny = y\n",
    "    elif y > maxy:\n",
    "        maxy = y"
   ]
  },
  {
   "cell_type": "markdown",
   "id": "98ece915",
   "metadata": {},
   "source": [
    "The second step when it comes to scaling is calculating a ratio between the actual\n",
    "state and the tiny canvas that we will render it on. This ratio is used for\n",
    "coordinate to pixel conversion. We get the size along the x and y axes of the state\n",
    "and then we divide the map width and height by these numbers to get our\n",
    "scaling ratio:"
   ]
  },
  {
   "cell_type": "code",
   "execution_count": 26,
   "id": "ef37aa0f",
   "metadata": {},
   "outputs": [],
   "source": [
    "dist_x = maxx - minx\n",
    "dist_y = maxy - miny\n",
    "x_ratio = map_width / dist_x\n",
    "y_ratio = map_height / dist_y"
   ]
  },
  {
   "cell_type": "markdown",
   "id": "d57d1e61",
   "metadata": {},
   "source": [
    "## convert a point of map coordinates to pixel coordinates\n",
    "We'll create a user-defined function called convert(), to transform a point in the map coordinates from one of our data layers into pixel coordinates using the previous calculations. You'll notice that, in the end, we divide the map width and height in half and subtract it from the final conversion to account for the unusual center origin of the turtle graphics canvas. Every\n",
    "geospatial program has some form of this function:"
   ]
  },
  {
   "cell_type": "code",
   "execution_count": 27,
   "id": "ff205c3a",
   "metadata": {},
   "outputs": [],
   "source": [
    "def convert(point):\n",
    "    lon=point[0]\n",
    "    lat=point[1]\n",
    "    x = map_width - ((maxx - lon) * x_ratio)\n",
    "    y = map_height - ((maxy - lat) * y_ratio)\n",
    "    # Python turtle graphics start in the\n",
    "    # middle of the screen so we must offset the points so they are centered\n",
    "    x = x - (map_width/2)\n",
    "    y = y - (map_height/2)\n",
    "    return [x,y]"
   ]
  },
  {
   "cell_type": "markdown",
   "id": "002e49ea",
   "metadata": {},
   "source": [
    "## Render the map"
   ]
  },
  {
   "cell_type": "markdown",
   "id": "a2a57ff5",
   "metadata": {},
   "source": [
    "The turtle module uses the concept of a cursor, known as a pen. Moving the cursor around the canvas is exactly the same as moving a pen around a piece of paper. The cursor will draw a line when you move it. You'll notice that, throughout the code, we use the t.up() and t.down() commands to pick the pen up when we want to move to a new location and put it down when we're ready to draw. We have some important steps to follow in this section, so let's get started."
   ]
  },
  {
   "cell_type": "markdown",
   "id": "2fe34fcb",
   "metadata": {},
   "source": [
    "#### Since the border of NSW is a polygon, we must draw a line between the last point and the first point to close the polygon. We can also leave out the closing step and just add a duplicate point to the NSW dataset. Once we've drawn the state, we'll use the write() method to label the polygon"
   ]
  },
  {
   "cell_type": "code",
   "execution_count": 29,
   "id": "277e07e5",
   "metadata": {},
   "outputs": [],
   "source": [
    "t.up()\n",
    "first_pixel=None\n",
    "for point in state[POINTS]:\n",
    "    pixel=convert(point)\n",
    "    if not first_pixel:\n",
    "        first_pixel=pixel\n",
    "    t.goto(pixel)\n",
    "    t.down()\n",
    "t.goto(first_pixel)\n",
    "t.up()\n",
    "t.goto([0,0])\n",
    "t.write(state[NAME], align=\"center\", font=(\"Arial\", 16,\"bold\"))"
   ]
  },
  {
   "cell_type": "markdown",
   "id": "836c9ec1",
   "metadata": {},
   "source": [
    "Now, we'll render the cities as point locations and label them with their names\n",
    "and population. Since the cities are a group of features in a list, we'll loop\n",
    "through them to render them. Instead of drawing lines by moving the pen\n",
    "around, we'll use the turtle dot() method to plot a small circle at the pixel\n",
    "coordinate that's returned by our basicGISconvert() function. We'll then\n",
    "label the dot with the city's name and add the population. You'll notice that we\n",
    "must convert the population number into a string in order to use it in the turtle\n",
    "write() method. To do so, we will use Python's built-in str() function:"
   ]
  },
  {
   "cell_type": "code",
   "execution_count": 30,
   "id": "d359e77c",
   "metadata": {},
   "outputs": [],
   "source": [
    "for city in cities:\n",
    "    pixel=convert(city[POINTS])\n",
    "    t.up()\n",
    "    t.goto(pixel)\n",
    "    \n",
    "    #place a point for the city\n",
    "    t.dot(10)\n",
    "    \n",
    "    #label the city\n",
    "    t.write(city[NAME] + \", Pop.: \" + str(city[POP]), align=\"left\")\n",
    "    t.up()\n",
    "    "
   ]
  },
  {
   "cell_type": "markdown",
   "id": "5c06895a",
   "metadata": {},
   "source": [
    "Now, we will perform one last operation to prove that we have created a real\n",
    "GIS. We will perform an attribute query on our data to determine which city has\n",
    "the largest population. Then, we'll perform a spatial query to see which city lies\n",
    "the furthest west. Finally, we'll print the answers to our questions on our\n",
    "thematic map page safely, out of the range of the map."
   ]
  },
  {
   "cell_type": "markdown",
   "id": "171bd1b7",
   "metadata": {},
   "source": [
    "For our query engine, we'll use Python's built-in min() and max() functions.\n",
    "These functions take a list as an argument and return the minimum and\n",
    "maximum values of this list. These functions have a special feature called a key\n",
    "argument that allows you to sort complex objects. Since we are dealing with\n",
    "nested lists in our data model, we'll take advantage of the key argument in these\n",
    "functions. The key argument accepts a function that temporarily alters the list for\n",
    "evaluation before a final value is returned. In this case, we want to isolate the\n",
    "population values for comparison, and then the points. We could write a whole\n",
    "new function to return the specified value, but we can use Python's lambda\n",
    "keyword instead. The lambda keyword defines an anonymous function that is\n",
    "used inline. Other Python functions can be used inline, such as the string\n",
    "function, str(), but they are not anonymous. This temporary function will\n",
    "isolate our value of interest."
   ]
  },
  {
   "cell_type": "code",
   "execution_count": null,
   "id": "7aa00317",
   "metadata": {},
   "outputs": [],
   "source": []
  },
  {
   "cell_type": "markdown",
   "id": "2702949e",
   "metadata": {},
   "source": [
    "#### which city has the largest population?"
   ]
  },
  {
   "cell_type": "code",
   "execution_count": 31,
   "id": "fa2ec07d",
   "metadata": {},
   "outputs": [],
   "source": [
    "biggest_city = max(cities, key=lambda city:city[POP])\n",
    "t.goto(0,-200)\n",
    "t.write(\"The biggest city is: \" + biggest_city[NAME])"
   ]
  },
  {
   "cell_type": "markdown",
   "id": "e579e17f",
   "metadata": {},
   "source": [
    "#### which city lies the furthest west?"
   ]
  },
  {
   "cell_type": "code",
   "execution_count": 32,
   "id": "797ee9f2",
   "metadata": {},
   "outputs": [],
   "source": [
    "western_city = min(cities, key=lambda city:city[POINTS])\n",
    "t.goto(0,-220)\n",
    "t.write(\"The western-most city is: \" + western_city[NAME])"
   ]
  },
  {
   "cell_type": "markdown",
   "id": "444f8869",
   "metadata": {},
   "source": [
    "The last two commands are just for cleanup purposes. First, we hide the cursor.\n",
    "Then, we call the turtle done() method, which will keep the turtle graphics\n",
    "window with our map on it open until we choose to close it using the close\n",
    "handle at the top of the window:"
   ]
  },
  {
   "cell_type": "code",
   "execution_count": 33,
   "id": "e3c031de",
   "metadata": {},
   "outputs": [],
   "source": [
    "t.pen(shown=False)\n",
    "t.done()"
   ]
  },
  {
   "cell_type": "code",
   "execution_count": null,
   "id": "4b7fc810",
   "metadata": {},
   "outputs": [],
   "source": []
  }
 ],
 "metadata": {
  "kernelspec": {
   "display_name": "Python 3 (ipykernel)",
   "language": "python",
   "name": "python3"
  },
  "language_info": {
   "codemirror_mode": {
    "name": "ipython",
    "version": 3
   },
   "file_extension": ".py",
   "mimetype": "text/x-python",
   "name": "python",
   "nbconvert_exporter": "python",
   "pygments_lexer": "ipython3",
   "version": "3.8.13"
  }
 },
 "nbformat": 4,
 "nbformat_minor": 5
}
