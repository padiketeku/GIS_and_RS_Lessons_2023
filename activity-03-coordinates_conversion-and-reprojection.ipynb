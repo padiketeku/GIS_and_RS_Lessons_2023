{
 "cells": [
  {
   "cell_type": "markdown",
   "id": "15385d9c",
   "metadata": {},
   "source": [
    "# Activity 3\n",
    "### Coordinates conversion and repojection\n",
    "In this activity you will convert map coordinates between different coordinate systems, and change coordinates in a dataset from one coordinate system to another. "
   ]
  },
  {
   "cell_type": "markdown",
   "id": "1db7e797",
   "metadata": {},
   "source": [
    "#### Convert from UTM to unprojected or geographic coordintes (lat, lon)"
   ]
  },
  {
   "cell_type": "code",
   "execution_count": 6,
   "id": "77968d78",
   "metadata": {},
   "outputs": [
    {
     "name": "stdout",
     "output_type": "stream",
     "text": [
      "Requirement already satisfied: utm in c:\\users\\rcrabbe\\csu-msh\\miniconda\\envs\\earth-analytics-python\\lib\\site-packages (0.7.0)\n",
      "(-36.08352215209873, 146.92512203814596)\n"
     ]
    }
   ],
   "source": [
    "# install utm\n",
    "import sys\n",
    "!{sys.executable} -m pip install utm\n",
    "\n",
    "# import utm\n",
    "import utm\n",
    "\n",
    "# the UTM coordinates for Albury\n",
    "y = 493258.55\n",
    "x = 6006785.06\n",
    "\n",
    "# UTM zone and band for Albury\n",
    "zone = 55\n",
    "band = 'H'\n",
    "\n",
    "# print the result\n",
    "print(utm.to_latlon(y, x, zone, band))\n",
    "\n",
    "# (-36.08352215209873, 146.92512203814596)"
   ]
  },
  {
   "cell_type": "markdown",
   "id": "d1606439",
   "metadata": {},
   "source": [
    " Now let's convert geographic coordinates to UTM.\n",
    " To do this, just pass the latitude and longitude to the from_latlon() method, which returns a tuple with the same parameters\n",
    "that are accepted by the to_latlon() method:"
   ]
  },
  {
   "cell_type": "code",
   "execution_count": 7,
   "id": "69c5b102",
   "metadata": {},
   "outputs": [
    {
     "data": {
      "text/plain": [
       "(493258.5500000013, 6006785.06000595, 55, 'H')"
      ]
     },
     "execution_count": 7,
     "metadata": {},
     "output_type": "execute_result"
    }
   ],
   "source": [
    "import utm\n",
    "utm.from_latlon(-36.08352215209873, 146.92512203814596)\n",
    " \n",
    "# (493258.5500000013, 6006785.06000595, 55, 'H')"
   ]
  },
  {
   "cell_type": "markdown",
   "id": "2fadc52a",
   "metadata": {},
   "source": [
    "#### Convert map coordinates in degree, minutes, seconds (DMS) to decimal degree, and vice versa\n",
    "In this task, we'll create two functions that can convert either format into the other"
   ]
  },
  {
   "cell_type": "code",
   "execution_count": 8,
   "id": "8673aff0",
   "metadata": {},
   "outputs": [],
   "source": [
    "# First, we import the math module to do conversions and the re regular expression module to parse the coordinate string\n",
    "\n",
    "import math\n",
    "import re"
   ]
  },
  {
   "cell_type": "code",
   "execution_count": 25,
   "id": "cf8bf4b4",
   "metadata": {},
   "outputs": [],
   "source": [
    "# user-defined function to convert decimal degrees into a degrees, minutes, and seconds string\n",
    "\n",
    "def dd2dms(lat, lon):\n",
    "    \"\"\"Convert decimal degrees to degrees, minutes, seconds\"\"\"\n",
    "    latf, latn = math.modf(lat)\n",
    "    lonf, lonn = math.modf(lon)\n",
    "    latd = int(latn)\n",
    "    latm = int(latf * 60)\n",
    "    lats = (lat - latd - latm / 60) * 3600.00\n",
    "    lond = int(lonn)\n",
    "    lonm = int(lonf * 60)\n",
    "    lons = (lon - lond - lonm / 60) * 3600.00\n",
    "    compass = {'lat': ('N','S'),'lon': ('E','W')}\n",
    "    lat_compass = compass['lat'][0 if latd >= 0 else 1]\n",
    "    lon_compass = compass['lon'][0 if lond >= 0 else 1]\n",
    "    return '{}º {}\\' {:.2f}\" {}, {}º {}\\' {:.2f}\"{}'.format(abs(latd),\n",
    "    abs(latm), abs(lats), lat_compass, abs(lond),\n",
    "    abs(lonm), abs(lons), lon_compass)\n",
    "\n",
    "    \n",
    "    "
   ]
  },
  {
   "cell_type": "code",
   "execution_count": 26,
   "id": "e0182e39",
   "metadata": {},
   "outputs": [],
   "source": [
    "# user-defined function to convert degrees, minutes, and seconds into decimal degree\n",
    "\n",
    "def dms2dd(lat, lon):\n",
    "    lat_deg, lat_min, \\\n",
    "    lat_sec, lat_dir = re.split('[^\\d\\.A-Z]+', lat)\n",
    "    lon_deg, lon_min, \\\n",
    "    lon_sec, lon_dir = re.split('[^\\d\\.A-Z]+', lon)\n",
    "    lat_dd = float(lat_deg) +\\\n",
    "    float(lat_min)/60 + float(lat_sec)/(60*60);\n",
    "    lon_dd = float(lon_deg) +\\\n",
    "    float(lon_min)/60 + float(lon_sec)/(60*60);\n",
    "    if lat_dir == 'S':\n",
    "        lat_dd *= -1\n",
    "    if lon_dir == 'W':\n",
    "        lon_dd *= -1\n",
    "    return (lat_dd, lon_dd);"
   ]
  },
  {
   "cell_type": "code",
   "execution_count": 27,
   "id": "cb87d586",
   "metadata": {},
   "outputs": [
    {
     "name": "stdout",
     "output_type": "stream",
     "text": [
      "36º 4' 48.00\" S, 146º 55' 12.00\"E\n"
     ]
    }
   ],
   "source": [
    "# convert decimal degrees into DMS\n",
    "print(dd2dms(-36.08, 146.92))\n",
    "\n",
    "# 36º 4' 48.00\" S, 146º 55' 12.00\"E"
   ]
  },
  {
   "cell_type": "code",
   "execution_count": 30,
   "id": "d6f32d67",
   "metadata": {},
   "outputs": [
    {
     "data": {
      "text/plain": [
       "(-36.080000000000005, 146.92)"
      ]
     },
     "execution_count": 30,
     "metadata": {},
     "output_type": "execute_result"
    }
   ],
   "source": [
    "# convert DMS to decimal degree\n",
    "\n",
    "dms2dd(\"\"\"36º 4' 48.00\" S\"\"\", \"\"\"146º 55' 12.00\"E\"\"\") # Note that, because the DMS coordinates contain both single and double quotes to represent\n",
    "# minutes and seconds, we have to use the Python string convention of using triple quotes on each latitude and longitude coordinate to contain both types of quotes so that they are parsed correctly.\n",
    "\n",
    "# (-36.080000000000005, 146.92)"
   ]
  },
  {
   "cell_type": "markdown",
   "id": "53ce5da0",
   "metadata": {},
   "source": [
    "### Reproject map coordinates\n",
    "In GIS, reprojection is all about changing the coordinates in a dataset from one coordinate system to another. Sometimes you need to reproject a shapefile; for a full reprojection, we need some help from the OGR Python API. The OGR API contained in the osgeo module also provides the Open Spatial Reference module, also known as osr, which we'll use for reprojection.\n",
    "\n",
    "In this task, we'll use a point shapefile containing tree location and height for the Council City of Ryde, NSW. This data was collected in 2013. The Council provides local government services to the suburbs of Ryde, Eastwood, Denistone, Gladesville, Marsfield, Meadowbank, Tennyson Point, and Putney. The point locations are in tranverse mercator projection; specifically, GDA1994 MGA Zone 56. We'll reproject this to WGS84 geographic (or un-project, it rather). You can download this zipped shapefile at https:/ / git. io/ vLbT4."
   ]
  },
  {
   "cell_type": "markdown",
   "id": "6e5f8350",
   "metadata": {},
   "source": [
    "#### summary of how this has been conducted:\n",
    "The geometry is transformed and then written to the new file, but the .dbf file is simply copied to the new name as we aren't\n",
    "changing it. The standard Python shutil module, short for shell utilities, is used to copy .dbf. The source and target shapefile names are variables at the beginning of the script. The target projection is also near the top, which is set using an EPSG code. The script assumes there is a .prj projection file, which defines the source projection. If not, you could manually define it using the same syntax as the target projection. We'll walk through projecting a dataset step by step. Each section is marked with comments."
   ]
  },
  {
   "cell_type": "code",
   "execution_count": 31,
   "id": "e64fcf22",
   "metadata": {},
   "outputs": [],
   "source": [
    "# import required libraries\n",
    "from osgeo import ogr\n",
    "from osgeo import osr\n",
    "import os\n",
    "import shutil"
   ]
  },
  {
   "cell_type": "code",
   "execution_count": 36,
   "id": "22a514ed",
   "metadata": {},
   "outputs": [],
   "source": [
    "# Next, we define the shapefile names as variables\n",
    "srcName = 'public-trees-2013.shp'\n",
    "tgtName = 'public-trees-2013_GEO.shp'"
   ]
  },
  {
   "cell_type": "code",
   "execution_count": 37,
   "id": "f380a3b1",
   "metadata": {},
   "outputs": [
    {
     "data": {
      "text/plain": [
       "0"
      ]
     },
     "execution_count": 37,
     "metadata": {},
     "output_type": "execute_result"
    }
   ],
   "source": [
    "# Now, create target spatial reference using the osr module as EPSG code 4326, which is WGS84 Geographic\n",
    "tgt_spatRef = osr.SpatialReference()\n",
    "tgt_spatRef.ImportFromEPSG(4326)"
   ]
  },
  {
   "cell_type": "code",
   "execution_count": 38,
   "id": "483e1099",
   "metadata": {},
   "outputs": [],
   "source": [
    "# Set up our shapefile Reader object using ogr and get the spatial reference\n",
    "\n",
    "driver = ogr.GetDriverByName('ESRI Shapefile')\n",
    "src = driver.Open(srcName, 0)\n",
    "srcLyr = src.GetLayer()\n",
    "src_spatRef = srcLyr.GetSpatialRef()"
   ]
  },
  {
   "cell_type": "code",
   "execution_count": 40,
   "id": "42f4232a",
   "metadata": {},
   "outputs": [],
   "source": [
    "# Next, check whether the target shapefile already exists from a previous test run and delete it if it does.\n",
    "\n",
    "if os.path.exists(tgtName):\n",
    "    driver.DeleteDataSource(tgtName)"
   ]
  },
  {
   "cell_type": "code",
   "execution_count": 41,
   "id": "16298914",
   "metadata": {},
   "outputs": [],
   "source": [
    "# Now, we can begin building our target layer for the shapefile\n",
    "tgt = driver.CreateDataSource(tgtName)\n",
    "lyrName = os.path.splitext(tgtName)[0]\n",
    "# Use well-known binary format (WKB) to specify geometry\n",
    "tgtLyr = tgt.CreateLayer(lyrName, geom_type=ogr.wkbPoint)\n",
    "featDef = srcLyr.GetLayerDefn()\n",
    "trans = osr.CoordinateTransformation(src_spatRef, tgt_spatRef)"
   ]
  },
  {
   "cell_type": "code",
   "execution_count": 47,
   "id": "ff7ea469",
   "metadata": {},
   "outputs": [
    {
     "data": {
      "text/plain": [
       "<bound method DataSource.Destroy of <osgeo.ogr.DataSource; proxy of <Swig Object of type 'OGRDataSourceShadow *' at 0x000001800AF51ED0> >>"
      ]
     },
     "execution_count": 47,
     "metadata": {},
     "output_type": "execute_result"
    }
   ],
   "source": [
    "# Next, loop through the features in our source shapefile, reproject them using the Transform() method, and add them to the new shapefile\n",
    "srcFeat = srcLyr.GetNextFeature()\n",
    "while srcFeat:\n",
    "    geom=srcFeat.GetGeometryRef()\n",
    "    geom.Transform(trans)\n",
    "    feature = ogr.Feature(featDef)\n",
    "    feature.SetGeometry(geom)\n",
    "    tgtLyr.CreateFeature(feature)\n",
    "    feature.Destroy()\n",
    "    srcFeat.Destroy()\n",
    "    srcFeat = srcLyr.GetNextFeature()\n",
    "src.Destroy\n",
    "tgt.Destroy"
   ]
  },
  {
   "cell_type": "code",
   "execution_count": 48,
   "id": "06534402",
   "metadata": {},
   "outputs": [],
   "source": [
    "# Then, we need to create a shapefile .prj file containing projection information as \n",
    "# a shapefile has no inherent way to store it\n",
    "\n",
    "# Convert geometry to Esri flavor of Well-Known Text (WKT) format\n",
    "# for export to the projection (prj) file.\n",
    "tgt_spatRef.MorphToESRI()\n",
    "prj = open(lyrName + '.prj', 'w')\n",
    "prj.write(tgt_spatRef.ExportToWkt())\n",
    "prj.close()"
   ]
  },
  {
   "cell_type": "code",
   "execution_count": 49,
   "id": "71c752ef",
   "metadata": {},
   "outputs": [
    {
     "data": {
      "text/plain": [
       "'public-trees-2013_GEO.dbf'"
      ]
     },
     "execution_count": 49,
     "metadata": {},
     "output_type": "execute_result"
    }
   ],
   "source": [
    "# Finally, we can just make a copy of the .dbf source with the new filename as the \n",
    "# attributes are part of the reprojection process\n",
    "\n",
    "srcDbf = os.path.splitext(srcName)[0] + '.dbf'\n",
    "tgtDbf = lyrName + '.dbf'\n",
    "shutil.copyfile(srcDbf, tgtDbf)"
   ]
  }
 ],
 "metadata": {
  "kernelspec": {
   "display_name": "Python 3 (ipykernel)",
   "language": "python",
   "name": "python3"
  },
  "language_info": {
   "codemirror_mode": {
    "name": "ipython",
    "version": 3
   },
   "file_extension": ".py",
   "mimetype": "text/x-python",
   "name": "python",
   "nbconvert_exporter": "python",
   "pygments_lexer": "ipython3",
   "version": "3.8.13"
  }
 },
 "nbformat": 4,
 "nbformat_minor": 5
}
